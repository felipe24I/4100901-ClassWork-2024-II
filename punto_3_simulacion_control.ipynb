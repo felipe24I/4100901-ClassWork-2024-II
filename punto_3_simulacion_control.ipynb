{
  "nbformat": 4,
  "nbformat_minor": 0,
  "metadata": {
    "colab": {
      "provenance": [],
      "authorship_tag": "ABX9TyPSy6ske5hD4/5LiaFRWEfj",
      "include_colab_link": true
    },
    "kernelspec": {
      "name": "python3",
      "display_name": "Python 3"
    },
    "language_info": {
      "name": "python"
    }
  },
  "cells": [
    {
      "cell_type": "markdown",
      "metadata": {
        "id": "view-in-github",
        "colab_type": "text"
      },
      "source": [
        "<a href=\"https://colab.research.google.com/github/felipe24I/4100901-ClassWork-2024-II/blob/main/punto_3_simulacion_control.ipynb\" target=\"_parent\"><img src=\"https://colab.research.google.com/assets/colab-badge.svg\" alt=\"Open In Colab\"/></a>"
      ]
    },
    {
      "cell_type": "code",
      "execution_count": 1,
      "metadata": {
        "colab": {
          "base_uri": "https://localhost:8080/"
        },
        "id": "2KaMKIGEHHAy",
        "outputId": "6bd0bc58-ca18-499e-aa55-4b6682db78c7"
      },
      "outputs": [
        {
          "output_type": "stream",
          "name": "stdout",
          "text": [
            "Collecting control\n",
            "  Downloading control-0.10.1-py3-none-any.whl.metadata (7.6 kB)\n",
            "Requirement already satisfied: numpy>=1.23 in /usr/local/lib/python3.10/dist-packages (from control) (1.26.4)\n",
            "Requirement already satisfied: scipy>=1.8 in /usr/local/lib/python3.10/dist-packages (from control) (1.13.1)\n",
            "Requirement already satisfied: matplotlib>=3.6 in /usr/local/lib/python3.10/dist-packages (from control) (3.8.0)\n",
            "Requirement already satisfied: contourpy>=1.0.1 in /usr/local/lib/python3.10/dist-packages (from matplotlib>=3.6->control) (1.3.1)\n",
            "Requirement already satisfied: cycler>=0.10 in /usr/local/lib/python3.10/dist-packages (from matplotlib>=3.6->control) (0.12.1)\n",
            "Requirement already satisfied: fonttools>=4.22.0 in /usr/local/lib/python3.10/dist-packages (from matplotlib>=3.6->control) (4.55.3)\n",
            "Requirement already satisfied: kiwisolver>=1.0.1 in /usr/local/lib/python3.10/dist-packages (from matplotlib>=3.6->control) (1.4.7)\n",
            "Requirement already satisfied: packaging>=20.0 in /usr/local/lib/python3.10/dist-packages (from matplotlib>=3.6->control) (24.2)\n",
            "Requirement already satisfied: pillow>=6.2.0 in /usr/local/lib/python3.10/dist-packages (from matplotlib>=3.6->control) (11.0.0)\n",
            "Requirement already satisfied: pyparsing>=2.3.1 in /usr/local/lib/python3.10/dist-packages (from matplotlib>=3.6->control) (3.2.0)\n",
            "Requirement already satisfied: python-dateutil>=2.7 in /usr/local/lib/python3.10/dist-packages (from matplotlib>=3.6->control) (2.8.2)\n",
            "Requirement already satisfied: six>=1.5 in /usr/local/lib/python3.10/dist-packages (from python-dateutil>=2.7->matplotlib>=3.6->control) (1.17.0)\n",
            "Downloading control-0.10.1-py3-none-any.whl (549 kB)\n",
            "\u001b[2K   \u001b[90m━━━━━━━━━━━━━━━━━━━━━━━━━━━━━━━━━━━━━━━━\u001b[0m \u001b[32m549.6/549.6 kB\u001b[0m \u001b[31m13.5 MB/s\u001b[0m eta \u001b[36m0:00:00\u001b[0m\n",
            "\u001b[?25hInstalling collected packages: control\n",
            "Successfully installed control-0.10.1\n"
          ]
        }
      ],
      "source": [
        "!pip install control"
      ]
    },
    {
      "cell_type": "code",
      "source": [
        "# Funciones matematicas\n",
        "import numpy as n\n",
        "# Funciones para graficos\n",
        "import matplotlib.pyplot as plt\n",
        "# Funciones parecidas a Matlab\n",
        "from control.matlab import *"
      ],
      "metadata": {
        "id": "4anw_Oe0HYTG"
      },
      "execution_count": 2,
      "outputs": []
    },
    {
      "cell_type": "code",
      "source": [
        "# Define los coeficientes del numerador y denominador\n",
        "k=1\n",
        "numerador = n.polymul([k,9*k],[1, -3])  # Coeficientes del numerador (por ejemplo: s + 5)\n",
        "denominador = [1, 10, 70, 120, 250]  # Coeficientes del denominador (por ejemplo: s^2 + 4s + 8)\n",
        "\n",
        "# Crear la función de transferencia\n",
        "G = TransferFunction(numerador, denominador)\n",
        "\n",
        "# Mostrar la función de transferencia\n",
        "print(\"Función de transferencia:\")\n",
        "print(G)"
      ],
      "metadata": {
        "colab": {
          "base_uri": "https://localhost:8080/"
        },
        "id": "KXYOz6OMHaf5",
        "outputId": "59709229-54ee-4cf1-e2d5-6c88bffddede"
      },
      "execution_count": 3,
      "outputs": [
        {
          "output_type": "stream",
          "name": "stdout",
          "text": [
            "Función de transferencia:\n",
            "<TransferFunction>: sys[0]\n",
            "Inputs (1): ['u[0]']\n",
            "Outputs (1): ['y[0]']\n",
            "\n",
            "\n",
            "          s^2 + 6 s - 27\n",
            "-----------------------------------\n",
            "s^4 + 10 s^3 + 70 s^2 + 120 s + 250\n",
            "\n"
          ]
        }
      ]
    },
    {
      "cell_type": "code",
      "source": [
        "# Retroalimentación unitaria (H(s) = 1)\n",
        "G_lazo_cerrado = feedback(G, 1)\n",
        "\n",
        "# Mostrar la función de transferencia en lazo cerrado\n",
        "print(\"Función de transferencia en lazo cerrado:\")\n",
        "print(G_lazo_cerrado)"
      ],
      "metadata": {
        "colab": {
          "base_uri": "https://localhost:8080/"
        },
        "id": "oD0ISCpdH_eu",
        "outputId": "a3d4d3f4-5f2a-40fd-9c53-6f0c7452e07a"
      },
      "execution_count": 5,
      "outputs": [
        {
          "output_type": "stream",
          "name": "stdout",
          "text": [
            "Función de transferencia en lazo cerrado:\n",
            "<TransferFunction>: sys[4]\n",
            "Inputs (1): ['u[0]']\n",
            "Outputs (1): ['y[0]']\n",
            "\n",
            "\n",
            "          s^2 + 6 s - 27\n",
            "-----------------------------------\n",
            "s^4 + 10 s^3 + 71 s^2 + 126 s + 223\n",
            "\n"
          ]
        }
      ]
    }
  ]
}